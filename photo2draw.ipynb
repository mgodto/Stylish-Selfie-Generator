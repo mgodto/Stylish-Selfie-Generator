{
 "cells": [
  {
   "cell_type": "code",
   "execution_count": 1,
   "metadata": {},
   "outputs": [],
   "source": [
    "import cv2\n",
    "import matplotlib.pyplot as plt\n",
    "\n",
    "global filename\n",
    "filename = 'czh.jpg'\n",
    "img = cv2.imread(filename)\n",
    "cv2.imshow('Origin',img)\n",
    "# wait for key input to close the image window\n",
    "cv2.waitKey(0)\n",
    "cv2.destroyAllWindows()"
   ]
  },
  {
   "cell_type": "markdown",
   "metadata": {},
   "source": [
    "# Pencil sketch"
   ]
  },
  {
   "cell_type": "code",
   "execution_count": 4,
   "metadata": {},
   "outputs": [],
   "source": [
    "def photo2pencil():\n",
    "    global filename\n",
    "    photo = imageio.imread(filename)\n",
    "    print(\"in function:\" + filename)\n",
    "    gray_image = cv2.cvtColor(photo, cv2.COLOR_BGR2GRAY) \n",
    "    # cv2.imshow('gray',gray_image)\n",
    "    \n",
    "    inverted_gray_image = 255 - gray_image\n",
    "    blurred_img = cv2.GaussianBlur(inverted_gray_image, (21,21),0) \n",
    "    inverted_blurred_img = 255 - blurred_img\n",
    "    pencil_sketch_IMG = cv2.divide(gray_image, inverted_blurred_img, scale = 256.0)\n",
    "    cv2.imshow('pencil sketch',pencil_sketch_IMG)\n",
    "    cv2.waitKey(0)  c\n",
    "    return pencil_sketch_IMG\n"
   ]
  },
  {
   "cell_type": "code",
   "execution_count": null,
   "metadata": {},
   "outputs": [],
   "source": [
    "# print(img)\n",
    "# print(gray_image)"
   ]
  },
  {
   "cell_type": "markdown",
   "metadata": {},
   "source": [
    "# User interface"
   ]
  },
  {
   "cell_type": "code",
   "execution_count": 3,
   "metadata": {},
   "outputs": [
    {
     "name": "stdout",
     "output_type": "stream",
     "text": [
      "Selected: C:/Users/gaoji/OneDrive/桌面/DSP lab/Final project/czh.jpg\n",
      "in function:C:/Users/gaoji/OneDrive/桌面/DSP lab/Final project/czh.jpg\n",
      "Selected: C:/Users/gaoji/OneDrive/桌面/DSP lab/Final project/ywl.jpg\n",
      "in function:C:/Users/gaoji/OneDrive/桌面/DSP lab/Final project/ywl.jpg\n",
      "Selected: C:/Users/gaoji/OneDrive/桌面/DSP lab/Final project/czh.jpg\n",
      "in function:C:/Users/gaoji/OneDrive/桌面/DSP lab/Final project/czh.jpg\n",
      "Selected: C:/Users/gaoji/OneDrive/桌面/DSP lab/Final project/ywl.jpg\n",
      "Selected: C:/Users/gaoji/OneDrive/桌面/DSP lab/Final project/czh.jpg\n",
      "Selected: C:/Users/gaoji/OneDrive/桌面/DSP lab/Final project/czh.jpg\n"
     ]
    }
   ],
   "source": [
    "import tkinter as tk\n",
    "import functools\n",
    "import imageio\n",
    "from tkinter import filedialog\n",
    "\n",
    "window = tk.Tk()\n",
    "window.title('Photos to draws')\n",
    "window.geometry('700x500')\n",
    "\n",
    "def p():\n",
    "    print(filename)\n",
    "\n",
    "def UploadAction():\n",
    "    global filename\n",
    "    filename = filedialog.askopenfilename()\n",
    "    print('Selected:', filename) \n",
    "#     button_c.config(text=filename)\n",
    "    # cv2.imshow('Origin',im)    \n",
    " \n",
    "\n",
    "# use partial in command to prevent bug!!\n",
    "button_a = tk.Button(window, text='Print the selected path', font=('Arial', 12), width=20, height=1, command=functools.partial(p))\n",
    "button_b = tk.Button(window, text='Generate pencil sketch draw', font=('Arial', 12), width=22, height=1, command=functools.partial(photo2pencil))\n",
    "button_c = tk.Button(window, text='Select a photo', font=('Arial', 12), width=12, height=1, command=functools.partial(UploadAction))\n",
    "\n",
    "button_a.pack()\n",
    "button_b.pack()\n",
    "button_c.pack()\n",
    "\n",
    "\n",
    "window.mainloop()\n",
    "\n",
    "\n",
    "#file_path = filedialog.askopenfilename()"
   ]
  },
  {
   "cell_type": "code",
   "execution_count": 32,
   "metadata": {},
   "outputs": [
    {
     "name": "stdout",
     "output_type": "stream",
     "text": [
      "C:/Users/gaoji/OneDrive/桌面/DSP lab/Final project/czh.jpg\n"
     ]
    }
   ],
   "source": [
    "print(filename)\n",
    "photo = imageio.imread(filename)\n",
    "cv2.imshow('123',photo)\n",
    "cv2.waitKey(0)\n",
    "cv2.destroyAllWindows()"
   ]
  }
 ],
 "metadata": {
  "kernelspec": {
   "display_name": "Python 3",
   "language": "python",
   "name": "python3"
  },
  "language_info": {
   "codemirror_mode": {
    "name": "ipython",
    "version": 3
   },
   "file_extension": ".py",
   "mimetype": "text/x-python",
   "name": "python",
   "nbconvert_exporter": "python",
   "pygments_lexer": "ipython3",
   "version": "3.6.10"
  }
 },
 "nbformat": 4,
 "nbformat_minor": 4
}
